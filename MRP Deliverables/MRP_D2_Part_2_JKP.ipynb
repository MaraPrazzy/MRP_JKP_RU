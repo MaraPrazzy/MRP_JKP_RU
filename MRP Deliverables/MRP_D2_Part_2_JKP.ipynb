{
 "cells": [
  {
   "cell_type": "markdown",
   "id": "intense-recruitment",
   "metadata": {},
   "source": [
    "<h1><center> MRP - Project</center></h1>\n",
    "<h1><center> Design, Development and Evaluation of Domain-Specific Topic Models and Classifiers for Public Health Using Big Social Data</center></h1>\n",
    "\n",
    "<h1><center> Kumara Prasanna Jayaraju</center></h1>"
   ]
  },
  {
   "cell_type": "code",
   "execution_count": 126,
   "id": "polished-floor",
   "metadata": {},
   "outputs": [],
   "source": []
  },
  {
   "cell_type": "code",
   "execution_count": 12,
   "id": "increasing-israel",
   "metadata": {},
   "outputs": [
    {
     "data": {
      "text/html": [
       "<style>.container { width:75% !important; }</style>"
      ],
      "text/plain": [
       "<IPython.core.display.HTML object>"
      ]
     },
     "metadata": {},
     "output_type": "display_data"
    },
    {
     "data": {
      "text/html": [
       "<style>.output_result { max-width:100% !important; }</style>"
      ],
      "text/plain": [
       "<IPython.core.display.HTML object>"
      ]
     },
     "metadata": {},
     "output_type": "display_data"
    },
    {
     "data": {
      "text/html": [
       "<style>.prompt { display:none !important; }</style>"
      ],
      "text/plain": [
       "<IPython.core.display.HTML object>"
      ]
     },
     "metadata": {},
     "output_type": "display_data"
    }
   ],
   "source": [
    "from IPython.core.display import display, HTML\n",
    "display(HTML(\"<style>.container { width:75% !important; }</style>\"))\n",
    "display(HTML(\"<style>.output_result { max-width:100% !important; }</style>\"))\n",
    "display(HTML(\"<style>.prompt { display:none !important; }</style>\"))"
   ]
  },
  {
   "cell_type": "markdown",
   "id": "crude-century",
   "metadata": {},
   "source": [
    "### Collection for Data"
   ]
  },
  {
   "cell_type": "code",
   "execution_count": 2,
   "id": "loaded-salvation",
   "metadata": {},
   "outputs": [
    {
     "name": "stderr",
     "output_type": "stream",
     "text": [
      "Version 7.2.0 of praw is outdated. Version 7.4.0 was released Friday July 30, 2021.\n"
     ]
    }
   ],
   "source": [
    "#!pip install praw\n",
    "import praw\n",
    "import pandas as pd\n",
    "from datetime import datetime\n",
    "\n",
    "# Acessing the reddit api\n",
    "reddit = praw.Reddit(client_id = 'xyz',\n",
    "                     client_secret = 'xyz',\n",
    "                     user_agent = 'MRP_Learning',\n",
    "                     username = 'Kumara-stu',\n",
    "                     password = 'xyz')     # your reddit password\n"
   ]
  },
  {
   "cell_type": "code",
   "execution_count": 4,
   "id": "agricultural-cartridge",
   "metadata": {},
   "outputs": [
    {
     "name": "stdout",
     "output_type": "stream",
     "text": [
      "My username on Reddit: Kumara-stu\n"
     ]
    }
   ],
   "source": [
    "print(\"My username on Reddit:\", reddit.user.me())"
   ]
  },
  {
   "cell_type": "markdown",
   "id": "decent-specialist",
   "metadata": {},
   "source": [
    "### Collecting the data from subreddits via Reddit API"
   ]
  },
  {
   "cell_type": "code",
   "execution_count": 6,
   "id": "aggregate-russia",
   "metadata": {},
   "outputs": [
    {
     "name": "stdout",
     "output_type": "stream",
     "text": [
      "Subreddit: worldnews\n",
      "Subreddit: vaxxhappened\n",
      "Subreddit: VACCINES\n",
      "Subreddit: VaccineDiscussion\n",
      "Subreddit: Vaccine\n",
      "Subreddit: vaccinationpics\n",
      "Subreddit: VaccinatedLansing\n",
      "Subreddit: TrueAntiVaccination\n",
      "Subreddit: toronto\n",
      "Subreddit: reddit.com\n",
      "Subreddit: Quebec\n",
      "Subreddit: pregnant\n",
      "Subreddit: ontario\n",
      "Subreddit: medicine\n",
      "Subreddit: Health\n",
      "Subreddit: epidemic\n",
      "Subreddit: DebateVaccine\n",
      "Subreddit: CovidVaccine\n",
      "Subreddit: CovidVaccinatedUncut\n",
      "Subreddit: covidlonghaulers\n",
      "Subreddit: CovIdiots\n",
      "Subreddit: COVID19positive\n",
      "Subreddit: COVID19_support\n",
      "Subreddit: coronavirusme\n",
      "Subreddit: CoronavirusCanada\n",
      "Subreddit: conpiracy\n",
      "Subreddit: CanadaCoronavirus\n",
      "Subreddit: Canada\n"
     ]
    }
   ],
   "source": [
    "# make a list of subreddits you want to scrape the data from\n",
    "sub = ['worldnews','vaxxhappened','VACCINES', 'VaccineDiscussion', 'Vaccine',\n",
    "      'vaccinationpics', 'VaccinatedLansing', 'TrueAntiVaccination',\n",
    "      'toronto', 'reddit.com', 'Quebec', 'pregnant',\n",
    "      'ontario', 'medicine', 'Health', 'epidemic',\n",
    "      'DebateVaccine', 'CovidVaccine', 'CovidVaccinatedUncut',\n",
    "      'covidlonghaulers', 'CovIdiots', 'COVID19positive',\n",
    "      'COVID19_support', 'coronavirusme',\n",
    "      'CoronavirusCanada', 'conspiracy', 'CanadaCoronavirus',\n",
    "      'Canada']  \n",
    "\n",
    "# Chosing the subreddit\n",
    "print(\"List of Subreddits:\")\n",
    "for s in sub:\n",
    "    print(\"Subreddit:\", s)\n",
    "    subreddit = reddit.subreddit(s)   \n",
    "    \n",
    "    \n",
    "#Creating dictionary to store the data which will be converted to a dataframe\n",
    "\n",
    "# Scraping is done using a search with following keyword\n",
    "    query = ['COVID','COVID-19', 'Corona','Corona virus', 'corona','corona virus','Coronavirus',\n",
    "             'Covaxin','covishield', 'UK Variant', 'indian Variant', 'vaccines', 'Pfizer', \n",
    "             'Moderna vaccine', 'AstraZeneca', 'BioNTech vaccine', 'Johnson & Johnson']\n",
    "\n",
    "    for item in query:\n",
    "        post_dict = {\n",
    "            \"title\" : [],\n",
    "            \"score\" : [],\n",
    "            \"id\" : [],\n",
    "            \"url\" : [],\n",
    "            \"comms_num\": [],\n",
    "            \"created\" : [],\n",
    "            \"body\" : [],\n",
    "            \"author\": [],\n",
    "            \"upvote_ratio\":[],\n",
    "            \"permalink\":[],\n",
    "            \"subreddit_id\":[],\n",
    "            \n",
    "        }\n",
    "        for submission in subreddit.search(item,sort = \"top\",limit = 10000):\n",
    "            post_dict[\"title\"].append(submission.title)\n",
    "            post_dict[\"score\"].append(submission.score)\n",
    "            post_dict[\"id\"].append(submission.id)\n",
    "            post_dict[\"url\"].append(submission.url)\n",
    "            post_dict[\"comms_num\"].append(submission.num_comments)\n",
    "            post_dict[\"created\"].append(datetime.fromtimestamp(submission.created))\n",
    "            post_dict[\"body\"].append(submission.selftext)\n",
    "            post_dict[\"author\"].append(submission.author)\n",
    "            post_dict[\"upvote_ratio\"].append(submission.upvote_ratio)\n",
    "            post_dict[\"permalink\"].append(submission.permalink)\n",
    "            post_dict[\"subreddit_id\"].append(submission.subreddit_id)\n",
    "\n",
    "            post_data = pd.DataFrame(post_dict)\n",
    "            post_data.to_csv(s+\"_\"+ item +\"df_subreddit_MRP.csv\")\n",
    "        #print(post_data)"
   ]
  },
  {
   "cell_type": "markdown",
   "id": "heated-brooklyn",
   "metadata": {},
   "source": [
    "### Combining the data from all the subreddits"
   ]
  },
  {
   "cell_type": "code",
   "execution_count": 4,
   "id": "unexpected-mainstream",
   "metadata": {},
   "outputs": [],
   "source": [
    "import os\n",
    "import pandas as pd\n",
    "cwd = os.path.abspath('/Users/kumaraprasannajayaraju/MRP_DataSet/Prazzy/Raw_Files/')\n",
    "files = os.listdir(cwd)"
   ]
  },
  {
   "cell_type": "code",
   "execution_count": 5,
   "id": "quality-suggestion",
   "metadata": {},
   "outputs": [
    {
     "data": {
      "text/plain": [
       "'/Users/kumaraprasannajayaraju/MRP_DataSet/Prazzy/Raw_Files'"
      ]
     },
     "execution_count": 5,
     "metadata": {},
     "output_type": "execute_result"
    }
   ],
   "source": [
    "cwd"
   ]
  },
  {
   "cell_type": "code",
   "execution_count": 6,
   "id": "treated-distributor",
   "metadata": {},
   "outputs": [],
   "source": [
    "df = pd.DataFrame()\n",
    "for file in files:\n",
    "    df = df.append(pd.read_csv(cwd+'/'+file, index_col=0), ignore_index = False)"
   ]
  },
  {
   "cell_type": "code",
   "execution_count": 7,
   "id": "fixed-retention",
   "metadata": {},
   "outputs": [
    {
     "data": {
      "text/html": [
       "<div>\n",
       "<style scoped>\n",
       "    .dataframe tbody tr th:only-of-type {\n",
       "        vertical-align: middle;\n",
       "    }\n",
       "\n",
       "    .dataframe tbody tr th {\n",
       "        vertical-align: top;\n",
       "    }\n",
       "\n",
       "    .dataframe thead th {\n",
       "        text-align: right;\n",
       "    }\n",
       "</style>\n",
       "<table border=\"1\" class=\"dataframe\">\n",
       "  <thead>\n",
       "    <tr style=\"text-align: right;\">\n",
       "      <th></th>\n",
       "      <th>title</th>\n",
       "      <th>score</th>\n",
       "      <th>id</th>\n",
       "      <th>url</th>\n",
       "      <th>comms_num</th>\n",
       "      <th>created</th>\n",
       "      <th>body</th>\n",
       "      <th>author</th>\n",
       "      <th>upvote_ratio</th>\n",
       "      <th>permalink</th>\n",
       "      <th>subreddit_id</th>\n",
       "    </tr>\n",
       "  </thead>\n",
       "  <tbody>\n",
       "    <tr>\n",
       "      <th>0</th>\n",
       "      <td>UK nearing it's highest ever COVID-19 infectio...</td>\n",
       "      <td>459</td>\n",
       "      <td>oogbz7</td>\n",
       "      <td>https://www.reddit.com/r/medicine/comments/oog...</td>\n",
       "      <td>175</td>\n",
       "      <td>2021-07-20 21:55:47</td>\n",
       "      <td>It feels like the sub is done with COVID-19, a...</td>\n",
       "      <td>MEANINGLESS_NUMBERS</td>\n",
       "      <td>0.96</td>\n",
       "      <td>/r/medicine/comments/oogbz7/uk_nearing_its_hig...</td>\n",
       "      <td>t5_2qhff</td>\n",
       "    </tr>\n",
       "    <tr>\n",
       "      <th>1</th>\n",
       "      <td>New Covid-19 strain in UK</td>\n",
       "      <td>106</td>\n",
       "      <td>kgzi9m</td>\n",
       "      <td>https://www.reddit.com/r/medicine/comments/kgz...</td>\n",
       "      <td>30</td>\n",
       "      <td>2020-12-20 13:41:32</td>\n",
       "      <td>https://www.cnn.com/2020/12/20/uk/uk-coronavir...</td>\n",
       "      <td>greatkaney</td>\n",
       "      <td>0.96</td>\n",
       "      <td>/r/medicine/comments/kgzi9m/new_covid19_strain...</td>\n",
       "      <td>t5_2qhff</td>\n",
       "    </tr>\n",
       "    <tr>\n",
       "      <th>2</th>\n",
       "      <td>Delta Variant</td>\n",
       "      <td>35</td>\n",
       "      <td>ob80cz</td>\n",
       "      <td>https://www.reddit.com/r/medicine/comments/ob8...</td>\n",
       "      <td>18</td>\n",
       "      <td>2021-06-30 18:18:52</td>\n",
       "      <td>Why do we think that the delta variant is mor...</td>\n",
       "      <td>gameringman</td>\n",
       "      <td>0.88</td>\n",
       "      <td>/r/medicine/comments/ob80cz/delta_variant/</td>\n",
       "      <td>t5_2qhff</td>\n",
       "    </tr>\n",
       "    <tr>\n",
       "      <th>3</th>\n",
       "      <td>Megathread #58: SARS-CoV-2/COVID-19. Month of ...</td>\n",
       "      <td>32</td>\n",
       "      <td>lbaesm</td>\n",
       "      <td>https://www.reddit.com/r/medicine/comments/lba...</td>\n",
       "      <td>185</td>\n",
       "      <td>2021-02-02 18:59:58</td>\n",
       "      <td>COVID-19 Megathread #58\\n\\nThis is a megathrea...</td>\n",
       "      <td>PokeTheVeil</td>\n",
       "      <td>0.93</td>\n",
       "      <td>/r/medicine/comments/lbaesm/megathread_58_sars...</td>\n",
       "      <td>t5_2qhff</td>\n",
       "    </tr>\n",
       "    <tr>\n",
       "      <th>4</th>\n",
       "      <td>You've had both your Moderna/Pfizer Covid vacc...</td>\n",
       "      <td>9</td>\n",
       "      <td>lh3gzk</td>\n",
       "      <td>https://www.reddit.com/r/medicine/comments/lh3...</td>\n",
       "      <td>25</td>\n",
       "      <td>2021-02-10 15:49:05</td>\n",
       "      <td>I think the title says it all but here it is, ...</td>\n",
       "      <td>amothep8282</td>\n",
       "      <td>0.61</td>\n",
       "      <td>/r/medicine/comments/lh3gzk/youve_had_both_you...</td>\n",
       "      <td>t5_2qhff</td>\n",
       "    </tr>\n",
       "  </tbody>\n",
       "</table>\n",
       "</div>"
      ],
      "text/plain": [
       "                                               title  score      id  \\\n",
       "0  UK nearing it's highest ever COVID-19 infectio...    459  oogbz7   \n",
       "1                          New Covid-19 strain in UK    106  kgzi9m   \n",
       "2                                      Delta Variant     35  ob80cz   \n",
       "3  Megathread #58: SARS-CoV-2/COVID-19. Month of ...     32  lbaesm   \n",
       "4  You've had both your Moderna/Pfizer Covid vacc...      9  lh3gzk   \n",
       "\n",
       "                                                 url  comms_num  \\\n",
       "0  https://www.reddit.com/r/medicine/comments/oog...        175   \n",
       "1  https://www.reddit.com/r/medicine/comments/kgz...         30   \n",
       "2  https://www.reddit.com/r/medicine/comments/ob8...         18   \n",
       "3  https://www.reddit.com/r/medicine/comments/lba...        185   \n",
       "4  https://www.reddit.com/r/medicine/comments/lh3...         25   \n",
       "\n",
       "               created                                               body  \\\n",
       "0  2021-07-20 21:55:47  It feels like the sub is done with COVID-19, a...   \n",
       "1  2020-12-20 13:41:32  https://www.cnn.com/2020/12/20/uk/uk-coronavir...   \n",
       "2  2021-06-30 18:18:52   Why do we think that the delta variant is mor...   \n",
       "3  2021-02-02 18:59:58  COVID-19 Megathread #58\\n\\nThis is a megathrea...   \n",
       "4  2021-02-10 15:49:05  I think the title says it all but here it is, ...   \n",
       "\n",
       "                author  upvote_ratio  \\\n",
       "0  MEANINGLESS_NUMBERS          0.96   \n",
       "1           greatkaney          0.96   \n",
       "2          gameringman          0.88   \n",
       "3          PokeTheVeil          0.93   \n",
       "4          amothep8282          0.61   \n",
       "\n",
       "                                           permalink subreddit_id  \n",
       "0  /r/medicine/comments/oogbz7/uk_nearing_its_hig...     t5_2qhff  \n",
       "1  /r/medicine/comments/kgzi9m/new_covid19_strain...     t5_2qhff  \n",
       "2         /r/medicine/comments/ob80cz/delta_variant/     t5_2qhff  \n",
       "3  /r/medicine/comments/lbaesm/megathread_58_sars...     t5_2qhff  \n",
       "4  /r/medicine/comments/lh3gzk/youve_had_both_you...     t5_2qhff  "
      ]
     },
     "execution_count": 7,
     "metadata": {},
     "output_type": "execute_result"
    }
   ],
   "source": [
    "df.head()"
   ]
  },
  {
   "cell_type": "code",
   "execution_count": 8,
   "id": "persistent-formation",
   "metadata": {},
   "outputs": [
    {
     "data": {
      "text/plain": [
       "(30694, 11)"
      ]
     },
     "execution_count": 8,
     "metadata": {},
     "output_type": "execute_result"
    }
   ],
   "source": [
    "df.shape"
   ]
  },
  {
   "cell_type": "code",
   "execution_count": 9,
   "id": "incorporated-joyce",
   "metadata": {},
   "outputs": [],
   "source": [
    "df.reset_index(drop=True, inplace=True)"
   ]
  },
  {
   "cell_type": "markdown",
   "id": "advance-designer",
   "metadata": {},
   "source": [
    "### Exploratory Data Analysis"
   ]
  },
  {
   "cell_type": "code",
   "execution_count": 10,
   "id": "interracial-charter",
   "metadata": {},
   "outputs": [
    {
     "data": {
      "text/plain": [
       "title               0\n",
       "score               0\n",
       "id                  0\n",
       "url                 0\n",
       "comms_num           0\n",
       "created             0\n",
       "body            16605\n",
       "author              0\n",
       "upvote_ratio        0\n",
       "permalink           0\n",
       "subreddit_id        0\n",
       "dtype: int64"
      ]
     },
     "execution_count": 10,
     "metadata": {},
     "output_type": "execute_result"
    }
   ],
   "source": [
    "df.isnull().sum()"
   ]
  },
  {
   "cell_type": "code",
   "execution_count": 11,
   "id": "ranking-buyer",
   "metadata": {},
   "outputs": [],
   "source": [
    "df = df.drop(df[df['body'].isnull()].index.tolist())"
   ]
  },
  {
   "cell_type": "code",
   "execution_count": 12,
   "id": "narrow-tradition",
   "metadata": {},
   "outputs": [
    {
     "data": {
      "text/html": [
       "<div>\n",
       "<style scoped>\n",
       "    .dataframe tbody tr th:only-of-type {\n",
       "        vertical-align: middle;\n",
       "    }\n",
       "\n",
       "    .dataframe tbody tr th {\n",
       "        vertical-align: top;\n",
       "    }\n",
       "\n",
       "    .dataframe thead th {\n",
       "        text-align: right;\n",
       "    }\n",
       "</style>\n",
       "<table border=\"1\" class=\"dataframe\">\n",
       "  <thead>\n",
       "    <tr style=\"text-align: right;\">\n",
       "      <th></th>\n",
       "      <th>title</th>\n",
       "      <th>score</th>\n",
       "      <th>id</th>\n",
       "      <th>url</th>\n",
       "      <th>comms_num</th>\n",
       "      <th>created</th>\n",
       "      <th>body</th>\n",
       "      <th>author</th>\n",
       "      <th>upvote_ratio</th>\n",
       "      <th>permalink</th>\n",
       "      <th>subreddit_id</th>\n",
       "    </tr>\n",
       "  </thead>\n",
       "  <tbody>\n",
       "    <tr>\n",
       "      <th>0</th>\n",
       "      <td>UK nearing it's highest ever COVID-19 infectio...</td>\n",
       "      <td>459</td>\n",
       "      <td>oogbz7</td>\n",
       "      <td>https://www.reddit.com/r/medicine/comments/oog...</td>\n",
       "      <td>175</td>\n",
       "      <td>2021-07-20 21:55:47</td>\n",
       "      <td>It feels like the sub is done with COVID-19, a...</td>\n",
       "      <td>MEANINGLESS_NUMBERS</td>\n",
       "      <td>0.96</td>\n",
       "      <td>/r/medicine/comments/oogbz7/uk_nearing_its_hig...</td>\n",
       "      <td>t5_2qhff</td>\n",
       "    </tr>\n",
       "    <tr>\n",
       "      <th>1</th>\n",
       "      <td>New Covid-19 strain in UK</td>\n",
       "      <td>106</td>\n",
       "      <td>kgzi9m</td>\n",
       "      <td>https://www.reddit.com/r/medicine/comments/kgz...</td>\n",
       "      <td>30</td>\n",
       "      <td>2020-12-20 13:41:32</td>\n",
       "      <td>https://www.cnn.com/2020/12/20/uk/uk-coronavir...</td>\n",
       "      <td>greatkaney</td>\n",
       "      <td>0.96</td>\n",
       "      <td>/r/medicine/comments/kgzi9m/new_covid19_strain...</td>\n",
       "      <td>t5_2qhff</td>\n",
       "    </tr>\n",
       "    <tr>\n",
       "      <th>2</th>\n",
       "      <td>Delta Variant</td>\n",
       "      <td>35</td>\n",
       "      <td>ob80cz</td>\n",
       "      <td>https://www.reddit.com/r/medicine/comments/ob8...</td>\n",
       "      <td>18</td>\n",
       "      <td>2021-06-30 18:18:52</td>\n",
       "      <td>Why do we think that the delta variant is mor...</td>\n",
       "      <td>gameringman</td>\n",
       "      <td>0.88</td>\n",
       "      <td>/r/medicine/comments/ob80cz/delta_variant/</td>\n",
       "      <td>t5_2qhff</td>\n",
       "    </tr>\n",
       "    <tr>\n",
       "      <th>3</th>\n",
       "      <td>Megathread #58: SARS-CoV-2/COVID-19. Month of ...</td>\n",
       "      <td>32</td>\n",
       "      <td>lbaesm</td>\n",
       "      <td>https://www.reddit.com/r/medicine/comments/lba...</td>\n",
       "      <td>185</td>\n",
       "      <td>2021-02-02 18:59:58</td>\n",
       "      <td>COVID-19 Megathread #58\\n\\nThis is a megathrea...</td>\n",
       "      <td>PokeTheVeil</td>\n",
       "      <td>0.93</td>\n",
       "      <td>/r/medicine/comments/lbaesm/megathread_58_sars...</td>\n",
       "      <td>t5_2qhff</td>\n",
       "    </tr>\n",
       "    <tr>\n",
       "      <th>4</th>\n",
       "      <td>You've had both your Moderna/Pfizer Covid vacc...</td>\n",
       "      <td>9</td>\n",
       "      <td>lh3gzk</td>\n",
       "      <td>https://www.reddit.com/r/medicine/comments/lh3...</td>\n",
       "      <td>25</td>\n",
       "      <td>2021-02-10 15:49:05</td>\n",
       "      <td>I think the title says it all but here it is, ...</td>\n",
       "      <td>amothep8282</td>\n",
       "      <td>0.61</td>\n",
       "      <td>/r/medicine/comments/lh3gzk/youve_had_both_you...</td>\n",
       "      <td>t5_2qhff</td>\n",
       "    </tr>\n",
       "  </tbody>\n",
       "</table>\n",
       "</div>"
      ],
      "text/plain": [
       "                                               title  score      id  \\\n",
       "0  UK nearing it's highest ever COVID-19 infectio...    459  oogbz7   \n",
       "1                          New Covid-19 strain in UK    106  kgzi9m   \n",
       "2                                      Delta Variant     35  ob80cz   \n",
       "3  Megathread #58: SARS-CoV-2/COVID-19. Month of ...     32  lbaesm   \n",
       "4  You've had both your Moderna/Pfizer Covid vacc...      9  lh3gzk   \n",
       "\n",
       "                                                 url  comms_num  \\\n",
       "0  https://www.reddit.com/r/medicine/comments/oog...        175   \n",
       "1  https://www.reddit.com/r/medicine/comments/kgz...         30   \n",
       "2  https://www.reddit.com/r/medicine/comments/ob8...         18   \n",
       "3  https://www.reddit.com/r/medicine/comments/lba...        185   \n",
       "4  https://www.reddit.com/r/medicine/comments/lh3...         25   \n",
       "\n",
       "               created                                               body  \\\n",
       "0  2021-07-20 21:55:47  It feels like the sub is done with COVID-19, a...   \n",
       "1  2020-12-20 13:41:32  https://www.cnn.com/2020/12/20/uk/uk-coronavir...   \n",
       "2  2021-06-30 18:18:52   Why do we think that the delta variant is mor...   \n",
       "3  2021-02-02 18:59:58  COVID-19 Megathread #58\\n\\nThis is a megathrea...   \n",
       "4  2021-02-10 15:49:05  I think the title says it all but here it is, ...   \n",
       "\n",
       "                author  upvote_ratio  \\\n",
       "0  MEANINGLESS_NUMBERS          0.96   \n",
       "1           greatkaney          0.96   \n",
       "2          gameringman          0.88   \n",
       "3          PokeTheVeil          0.93   \n",
       "4          amothep8282          0.61   \n",
       "\n",
       "                                           permalink subreddit_id  \n",
       "0  /r/medicine/comments/oogbz7/uk_nearing_its_hig...     t5_2qhff  \n",
       "1  /r/medicine/comments/kgzi9m/new_covid19_strain...     t5_2qhff  \n",
       "2         /r/medicine/comments/ob80cz/delta_variant/     t5_2qhff  \n",
       "3  /r/medicine/comments/lbaesm/megathread_58_sars...     t5_2qhff  \n",
       "4  /r/medicine/comments/lh3gzk/youve_had_both_you...     t5_2qhff  "
      ]
     },
     "execution_count": 12,
     "metadata": {},
     "output_type": "execute_result"
    }
   ],
   "source": [
    "df.head()"
   ]
  },
  {
   "cell_type": "code",
   "execution_count": 13,
   "id": "parallel-robertson",
   "metadata": {},
   "outputs": [
    {
     "data": {
      "text/plain": [
       "title           0\n",
       "score           0\n",
       "id              0\n",
       "url             0\n",
       "comms_num       0\n",
       "created         0\n",
       "body            0\n",
       "author          0\n",
       "upvote_ratio    0\n",
       "permalink       0\n",
       "subreddit_id    0\n",
       "dtype: int64"
      ]
     },
     "execution_count": 13,
     "metadata": {},
     "output_type": "execute_result"
    }
   ],
   "source": [
    "df.isnull().sum()"
   ]
  },
  {
   "cell_type": "code",
   "execution_count": 14,
   "id": "north-september",
   "metadata": {},
   "outputs": [
    {
     "data": {
      "text/plain": [
       "title           14089\n",
       "score           14089\n",
       "id              14089\n",
       "url             14089\n",
       "comms_num       14089\n",
       "created         14089\n",
       "body            14089\n",
       "author          14089\n",
       "upvote_ratio    14089\n",
       "permalink       14089\n",
       "subreddit_id    14089\n",
       "dtype: int64"
      ]
     },
     "execution_count": 14,
     "metadata": {},
     "output_type": "execute_result"
    }
   ],
   "source": [
    "df.count()"
   ]
  },
  {
   "cell_type": "code",
   "execution_count": null,
   "id": "indirect-tobago",
   "metadata": {},
   "outputs": [],
   "source": []
  },
  {
   "cell_type": "code",
   "execution_count": 15,
   "id": "appointed-password",
   "metadata": {},
   "outputs": [
    {
     "data": {
      "text/html": [
       "<div>\n",
       "<style scoped>\n",
       "    .dataframe tbody tr th:only-of-type {\n",
       "        vertical-align: middle;\n",
       "    }\n",
       "\n",
       "    .dataframe tbody tr th {\n",
       "        vertical-align: top;\n",
       "    }\n",
       "\n",
       "    .dataframe thead th {\n",
       "        text-align: right;\n",
       "    }\n",
       "</style>\n",
       "<table border=\"1\" class=\"dataframe\">\n",
       "  <thead>\n",
       "    <tr style=\"text-align: right;\">\n",
       "      <th></th>\n",
       "      <th>title</th>\n",
       "      <th>score</th>\n",
       "      <th>id</th>\n",
       "      <th>url</th>\n",
       "      <th>comms_num</th>\n",
       "      <th>created</th>\n",
       "      <th>body</th>\n",
       "      <th>author</th>\n",
       "      <th>upvote_ratio</th>\n",
       "      <th>permalink</th>\n",
       "      <th>subreddit_id</th>\n",
       "    </tr>\n",
       "  </thead>\n",
       "  <tbody>\n",
       "    <tr>\n",
       "      <th>0</th>\n",
       "      <td>UK nearing it's highest ever COVID-19 infectio...</td>\n",
       "      <td>459</td>\n",
       "      <td>oogbz7</td>\n",
       "      <td>https://www.reddit.com/r/medicine/comments/oog...</td>\n",
       "      <td>175</td>\n",
       "      <td>2021-07-20 21:55:47</td>\n",
       "      <td>It feels like the sub is done with COVID-19, a...</td>\n",
       "      <td>MEANINGLESS_NUMBERS</td>\n",
       "      <td>0.96</td>\n",
       "      <td>/r/medicine/comments/oogbz7/uk_nearing_its_hig...</td>\n",
       "      <td>t5_2qhff</td>\n",
       "    </tr>\n",
       "    <tr>\n",
       "      <th>1</th>\n",
       "      <td>New Covid-19 strain in UK</td>\n",
       "      <td>106</td>\n",
       "      <td>kgzi9m</td>\n",
       "      <td>https://www.reddit.com/r/medicine/comments/kgz...</td>\n",
       "      <td>30</td>\n",
       "      <td>2020-12-20 13:41:32</td>\n",
       "      <td>https://www.cnn.com/2020/12/20/uk/uk-coronavir...</td>\n",
       "      <td>greatkaney</td>\n",
       "      <td>0.96</td>\n",
       "      <td>/r/medicine/comments/kgzi9m/new_covid19_strain...</td>\n",
       "      <td>t5_2qhff</td>\n",
       "    </tr>\n",
       "    <tr>\n",
       "      <th>2</th>\n",
       "      <td>Delta Variant</td>\n",
       "      <td>35</td>\n",
       "      <td>ob80cz</td>\n",
       "      <td>https://www.reddit.com/r/medicine/comments/ob8...</td>\n",
       "      <td>18</td>\n",
       "      <td>2021-06-30 18:18:52</td>\n",
       "      <td>Why do we think that the delta variant is mor...</td>\n",
       "      <td>gameringman</td>\n",
       "      <td>0.88</td>\n",
       "      <td>/r/medicine/comments/ob80cz/delta_variant/</td>\n",
       "      <td>t5_2qhff</td>\n",
       "    </tr>\n",
       "    <tr>\n",
       "      <th>3</th>\n",
       "      <td>Megathread #58: SARS-CoV-2/COVID-19. Month of ...</td>\n",
       "      <td>32</td>\n",
       "      <td>lbaesm</td>\n",
       "      <td>https://www.reddit.com/r/medicine/comments/lba...</td>\n",
       "      <td>185</td>\n",
       "      <td>2021-02-02 18:59:58</td>\n",
       "      <td>COVID-19 Megathread #58\\n\\nThis is a megathrea...</td>\n",
       "      <td>PokeTheVeil</td>\n",
       "      <td>0.93</td>\n",
       "      <td>/r/medicine/comments/lbaesm/megathread_58_sars...</td>\n",
       "      <td>t5_2qhff</td>\n",
       "    </tr>\n",
       "    <tr>\n",
       "      <th>4</th>\n",
       "      <td>You've had both your Moderna/Pfizer Covid vacc...</td>\n",
       "      <td>9</td>\n",
       "      <td>lh3gzk</td>\n",
       "      <td>https://www.reddit.com/r/medicine/comments/lh3...</td>\n",
       "      <td>25</td>\n",
       "      <td>2021-02-10 15:49:05</td>\n",
       "      <td>I think the title says it all but here it is, ...</td>\n",
       "      <td>amothep8282</td>\n",
       "      <td>0.61</td>\n",
       "      <td>/r/medicine/comments/lh3gzk/youve_had_both_you...</td>\n",
       "      <td>t5_2qhff</td>\n",
       "    </tr>\n",
       "  </tbody>\n",
       "</table>\n",
       "</div>"
      ],
      "text/plain": [
       "                                               title  score      id  \\\n",
       "0  UK nearing it's highest ever COVID-19 infectio...    459  oogbz7   \n",
       "1                          New Covid-19 strain in UK    106  kgzi9m   \n",
       "2                                      Delta Variant     35  ob80cz   \n",
       "3  Megathread #58: SARS-CoV-2/COVID-19. Month of ...     32  lbaesm   \n",
       "4  You've had both your Moderna/Pfizer Covid vacc...      9  lh3gzk   \n",
       "\n",
       "                                                 url  comms_num  \\\n",
       "0  https://www.reddit.com/r/medicine/comments/oog...        175   \n",
       "1  https://www.reddit.com/r/medicine/comments/kgz...         30   \n",
       "2  https://www.reddit.com/r/medicine/comments/ob8...         18   \n",
       "3  https://www.reddit.com/r/medicine/comments/lba...        185   \n",
       "4  https://www.reddit.com/r/medicine/comments/lh3...         25   \n",
       "\n",
       "               created                                               body  \\\n",
       "0  2021-07-20 21:55:47  It feels like the sub is done with COVID-19, a...   \n",
       "1  2020-12-20 13:41:32  https://www.cnn.com/2020/12/20/uk/uk-coronavir...   \n",
       "2  2021-06-30 18:18:52   Why do we think that the delta variant is mor...   \n",
       "3  2021-02-02 18:59:58  COVID-19 Megathread #58\\n\\nThis is a megathrea...   \n",
       "4  2021-02-10 15:49:05  I think the title says it all but here it is, ...   \n",
       "\n",
       "                author  upvote_ratio  \\\n",
       "0  MEANINGLESS_NUMBERS          0.96   \n",
       "1           greatkaney          0.96   \n",
       "2          gameringman          0.88   \n",
       "3          PokeTheVeil          0.93   \n",
       "4          amothep8282          0.61   \n",
       "\n",
       "                                           permalink subreddit_id  \n",
       "0  /r/medicine/comments/oogbz7/uk_nearing_its_hig...     t5_2qhff  \n",
       "1  /r/medicine/comments/kgzi9m/new_covid19_strain...     t5_2qhff  \n",
       "2         /r/medicine/comments/ob80cz/delta_variant/     t5_2qhff  \n",
       "3  /r/medicine/comments/lbaesm/megathread_58_sars...     t5_2qhff  \n",
       "4  /r/medicine/comments/lh3gzk/youve_had_both_you...     t5_2qhff  "
      ]
     },
     "execution_count": 15,
     "metadata": {},
     "output_type": "execute_result"
    }
   ],
   "source": [
    "df.head()"
   ]
  },
  {
   "cell_type": "markdown",
   "id": "novel-charger",
   "metadata": {},
   "source": [
    "### Feature Engineering"
   ]
  },
  {
   "cell_type": "code",
   "execution_count": 16,
   "id": "civilian-webcam",
   "metadata": {},
   "outputs": [],
   "source": [
    "## working on created(Date and Time) column."
   ]
  },
  {
   "cell_type": "code",
   "execution_count": 17,
   "id": "opposed-mentor",
   "metadata": {},
   "outputs": [],
   "source": [
    "weekDays = [\"Monday\", \"Tuesday\", \"Wednesday\", \"Thursday\", \"Friday\", \"Saturday\", \"Sunday\"]"
   ]
  },
  {
   "cell_type": "code",
   "execution_count": 18,
   "id": "developed-paintball",
   "metadata": {},
   "outputs": [],
   "source": [
    "df['Month'] = pd.DatetimeIndex(df['created']).month\n",
    "df['DayOfWeek'] = pd.DatetimeIndex(df['created']).dayofweek\n",
    "df['HourofDay'] = pd.DatetimeIndex(df['created']).hour\n",
    "df['Day'] = pd.DatetimeIndex(df['created']).day\n",
    "df['Year'] = pd.DatetimeIndex(df['created']).year"
   ]
  },
  {
   "cell_type": "code",
   "execution_count": 19,
   "id": "developing-rating",
   "metadata": {},
   "outputs": [],
   "source": [
    "\n",
    "#Adding Columns ['coder1_label', 'description1', 'coder2_label', 'description2', 'consensus', 'reaction'] for Analysis\n",
    "df = df.assign(coder1_label='', description1= '', coder2_label='', description2 = '',\n",
    "               consensus='', reaction='')\n"
   ]
  },
  {
   "cell_type": "code",
   "execution_count": 20,
   "id": "alien-witch",
   "metadata": {},
   "outputs": [
    {
     "data": {
      "text/plain": [
       "Index(['title', 'score', 'id', 'url', 'comms_num', 'created', 'body', 'author',\n",
       "       'upvote_ratio', 'permalink', 'subreddit_id', 'Month', 'DayOfWeek',\n",
       "       'HourofDay', 'Day', 'Year', 'coder1_label', 'description1',\n",
       "       'coder2_label', 'description2', 'consensus', 'reaction'],\n",
       "      dtype='object')"
      ]
     },
     "execution_count": 20,
     "metadata": {},
     "output_type": "execute_result"
    }
   ],
   "source": [
    "df.columns"
   ]
  },
  {
   "cell_type": "code",
   "execution_count": 21,
   "id": "selected-ethnic",
   "metadata": {},
   "outputs": [],
   "source": [
    "##Re-Arranging columns\n",
    "\n",
    "df= df[['created', 'Day', 'Month', 'Year','HourofDay','DayOfWeek',\n",
    "       'body', 'coder1_label', 'description1', 'coder2_label',\n",
    "       'description2', 'consensus', 'reaction','score', 'id', 'url', 'comms_num', 'author',\n",
    "       'upvote_ratio', 'permalink', 'subreddit_id']]"
   ]
  },
  {
   "cell_type": "markdown",
   "id": "phantom-idaho",
   "metadata": {},
   "source": [
    "### Data export and Import"
   ]
  },
  {
   "cell_type": "code",
   "execution_count": 22,
   "id": "vocational-style",
   "metadata": {},
   "outputs": [],
   "source": [
    "### Exporting Clean Data set\n",
    "    #df.to_csv(\"Clean_dataset.csv\", index = False)"
   ]
  },
  {
   "cell_type": "code",
   "execution_count": 23,
   "id": "controlled-edwards",
   "metadata": {},
   "outputs": [],
   "source": [
    "### Importing Clean Data set\n",
    "    #df1 = pd.read_csv(\"Clean_dataset.csv\")"
   ]
  },
  {
   "cell_type": "markdown",
   "id": "closed-nirvana",
   "metadata": {},
   "source": [
    "### Exploration of the cleaned dataset"
   ]
  },
  {
   "cell_type": "code",
   "execution_count": 24,
   "id": "entertaining-microwave",
   "metadata": {},
   "outputs": [
    {
     "data": {
      "text/html": [
       "<div>\n",
       "<style scoped>\n",
       "    .dataframe tbody tr th:only-of-type {\n",
       "        vertical-align: middle;\n",
       "    }\n",
       "\n",
       "    .dataframe tbody tr th {\n",
       "        vertical-align: top;\n",
       "    }\n",
       "\n",
       "    .dataframe thead th {\n",
       "        text-align: right;\n",
       "    }\n",
       "</style>\n",
       "<table border=\"1\" class=\"dataframe\">\n",
       "  <thead>\n",
       "    <tr style=\"text-align: right;\">\n",
       "      <th></th>\n",
       "      <th>created</th>\n",
       "      <th>Day</th>\n",
       "      <th>Month</th>\n",
       "      <th>Year</th>\n",
       "      <th>HourofDay</th>\n",
       "      <th>DayOfWeek</th>\n",
       "      <th>body</th>\n",
       "      <th>coder1_label</th>\n",
       "      <th>description1</th>\n",
       "      <th>coder2_label</th>\n",
       "      <th>...</th>\n",
       "      <th>consensus</th>\n",
       "      <th>reaction</th>\n",
       "      <th>score</th>\n",
       "      <th>id</th>\n",
       "      <th>url</th>\n",
       "      <th>comms_num</th>\n",
       "      <th>author</th>\n",
       "      <th>upvote_ratio</th>\n",
       "      <th>permalink</th>\n",
       "      <th>subreddit_id</th>\n",
       "    </tr>\n",
       "  </thead>\n",
       "  <tbody>\n",
       "    <tr>\n",
       "      <th>0</th>\n",
       "      <td>2021-07-20 21:55:47</td>\n",
       "      <td>20</td>\n",
       "      <td>7</td>\n",
       "      <td>2021</td>\n",
       "      <td>21</td>\n",
       "      <td>1</td>\n",
       "      <td>It feels like the sub is done with COVID-19, a...</td>\n",
       "      <td></td>\n",
       "      <td></td>\n",
       "      <td></td>\n",
       "      <td>...</td>\n",
       "      <td></td>\n",
       "      <td></td>\n",
       "      <td>459</td>\n",
       "      <td>oogbz7</td>\n",
       "      <td>https://www.reddit.com/r/medicine/comments/oog...</td>\n",
       "      <td>175</td>\n",
       "      <td>MEANINGLESS_NUMBERS</td>\n",
       "      <td>0.96</td>\n",
       "      <td>/r/medicine/comments/oogbz7/uk_nearing_its_hig...</td>\n",
       "      <td>t5_2qhff</td>\n",
       "    </tr>\n",
       "    <tr>\n",
       "      <th>1</th>\n",
       "      <td>2020-12-20 13:41:32</td>\n",
       "      <td>20</td>\n",
       "      <td>12</td>\n",
       "      <td>2020</td>\n",
       "      <td>13</td>\n",
       "      <td>6</td>\n",
       "      <td>https://www.cnn.com/2020/12/20/uk/uk-coronavir...</td>\n",
       "      <td></td>\n",
       "      <td></td>\n",
       "      <td></td>\n",
       "      <td>...</td>\n",
       "      <td></td>\n",
       "      <td></td>\n",
       "      <td>106</td>\n",
       "      <td>kgzi9m</td>\n",
       "      <td>https://www.reddit.com/r/medicine/comments/kgz...</td>\n",
       "      <td>30</td>\n",
       "      <td>greatkaney</td>\n",
       "      <td>0.96</td>\n",
       "      <td>/r/medicine/comments/kgzi9m/new_covid19_strain...</td>\n",
       "      <td>t5_2qhff</td>\n",
       "    </tr>\n",
       "    <tr>\n",
       "      <th>2</th>\n",
       "      <td>2021-06-30 18:18:52</td>\n",
       "      <td>30</td>\n",
       "      <td>6</td>\n",
       "      <td>2021</td>\n",
       "      <td>18</td>\n",
       "      <td>2</td>\n",
       "      <td>Why do we think that the delta variant is mor...</td>\n",
       "      <td></td>\n",
       "      <td></td>\n",
       "      <td></td>\n",
       "      <td>...</td>\n",
       "      <td></td>\n",
       "      <td></td>\n",
       "      <td>35</td>\n",
       "      <td>ob80cz</td>\n",
       "      <td>https://www.reddit.com/r/medicine/comments/ob8...</td>\n",
       "      <td>18</td>\n",
       "      <td>gameringman</td>\n",
       "      <td>0.88</td>\n",
       "      <td>/r/medicine/comments/ob80cz/delta_variant/</td>\n",
       "      <td>t5_2qhff</td>\n",
       "    </tr>\n",
       "    <tr>\n",
       "      <th>3</th>\n",
       "      <td>2021-02-02 18:59:58</td>\n",
       "      <td>2</td>\n",
       "      <td>2</td>\n",
       "      <td>2021</td>\n",
       "      <td>18</td>\n",
       "      <td>1</td>\n",
       "      <td>COVID-19 Megathread #58\\n\\nThis is a megathrea...</td>\n",
       "      <td></td>\n",
       "      <td></td>\n",
       "      <td></td>\n",
       "      <td>...</td>\n",
       "      <td></td>\n",
       "      <td></td>\n",
       "      <td>32</td>\n",
       "      <td>lbaesm</td>\n",
       "      <td>https://www.reddit.com/r/medicine/comments/lba...</td>\n",
       "      <td>185</td>\n",
       "      <td>PokeTheVeil</td>\n",
       "      <td>0.93</td>\n",
       "      <td>/r/medicine/comments/lbaesm/megathread_58_sars...</td>\n",
       "      <td>t5_2qhff</td>\n",
       "    </tr>\n",
       "    <tr>\n",
       "      <th>4</th>\n",
       "      <td>2021-02-10 15:49:05</td>\n",
       "      <td>10</td>\n",
       "      <td>2</td>\n",
       "      <td>2021</td>\n",
       "      <td>15</td>\n",
       "      <td>2</td>\n",
       "      <td>I think the title says it all but here it is, ...</td>\n",
       "      <td></td>\n",
       "      <td></td>\n",
       "      <td></td>\n",
       "      <td>...</td>\n",
       "      <td></td>\n",
       "      <td></td>\n",
       "      <td>9</td>\n",
       "      <td>lh3gzk</td>\n",
       "      <td>https://www.reddit.com/r/medicine/comments/lh3...</td>\n",
       "      <td>25</td>\n",
       "      <td>amothep8282</td>\n",
       "      <td>0.61</td>\n",
       "      <td>/r/medicine/comments/lh3gzk/youve_had_both_you...</td>\n",
       "      <td>t5_2qhff</td>\n",
       "    </tr>\n",
       "  </tbody>\n",
       "</table>\n",
       "<p>5 rows × 21 columns</p>\n",
       "</div>"
      ],
      "text/plain": [
       "               created  Day  Month  Year  HourofDay  DayOfWeek  \\\n",
       "0  2021-07-20 21:55:47   20      7  2021         21          1   \n",
       "1  2020-12-20 13:41:32   20     12  2020         13          6   \n",
       "2  2021-06-30 18:18:52   30      6  2021         18          2   \n",
       "3  2021-02-02 18:59:58    2      2  2021         18          1   \n",
       "4  2021-02-10 15:49:05   10      2  2021         15          2   \n",
       "\n",
       "                                                body coder1_label  \\\n",
       "0  It feels like the sub is done with COVID-19, a...                \n",
       "1  https://www.cnn.com/2020/12/20/uk/uk-coronavir...                \n",
       "2   Why do we think that the delta variant is mor...                \n",
       "3  COVID-19 Megathread #58\\n\\nThis is a megathrea...                \n",
       "4  I think the title says it all but here it is, ...                \n",
       "\n",
       "  description1 coder2_label  ... consensus reaction score      id  \\\n",
       "0                            ...                      459  oogbz7   \n",
       "1                            ...                      106  kgzi9m   \n",
       "2                            ...                       35  ob80cz   \n",
       "3                            ...                       32  lbaesm   \n",
       "4                            ...                        9  lh3gzk   \n",
       "\n",
       "                                                 url comms_num  \\\n",
       "0  https://www.reddit.com/r/medicine/comments/oog...       175   \n",
       "1  https://www.reddit.com/r/medicine/comments/kgz...        30   \n",
       "2  https://www.reddit.com/r/medicine/comments/ob8...        18   \n",
       "3  https://www.reddit.com/r/medicine/comments/lba...       185   \n",
       "4  https://www.reddit.com/r/medicine/comments/lh3...        25   \n",
       "\n",
       "                author upvote_ratio  \\\n",
       "0  MEANINGLESS_NUMBERS         0.96   \n",
       "1           greatkaney         0.96   \n",
       "2          gameringman         0.88   \n",
       "3          PokeTheVeil         0.93   \n",
       "4          amothep8282         0.61   \n",
       "\n",
       "                                           permalink subreddit_id  \n",
       "0  /r/medicine/comments/oogbz7/uk_nearing_its_hig...     t5_2qhff  \n",
       "1  /r/medicine/comments/kgzi9m/new_covid19_strain...     t5_2qhff  \n",
       "2         /r/medicine/comments/ob80cz/delta_variant/     t5_2qhff  \n",
       "3  /r/medicine/comments/lbaesm/megathread_58_sars...     t5_2qhff  \n",
       "4  /r/medicine/comments/lh3gzk/youve_had_both_you...     t5_2qhff  \n",
       "\n",
       "[5 rows x 21 columns]"
      ]
     },
     "execution_count": 24,
     "metadata": {},
     "output_type": "execute_result"
    }
   ],
   "source": [
    "df.head()"
   ]
  },
  {
   "cell_type": "code",
   "execution_count": 25,
   "id": "accepted-confidentiality",
   "metadata": {},
   "outputs": [
    {
     "name": "stdout",
     "output_type": "stream",
     "text": [
      "<class 'pandas.core.frame.DataFrame'>\n",
      "Int64Index: 14089 entries, 0 to 30691\n",
      "Data columns (total 21 columns):\n",
      " #   Column        Non-Null Count  Dtype  \n",
      "---  ------        --------------  -----  \n",
      " 0   created       14089 non-null  object \n",
      " 1   Day           14089 non-null  int64  \n",
      " 2   Month         14089 non-null  int64  \n",
      " 3   Year          14089 non-null  int64  \n",
      " 4   HourofDay     14089 non-null  int64  \n",
      " 5   DayOfWeek     14089 non-null  int64  \n",
      " 6   body          14089 non-null  object \n",
      " 7   coder1_label  14089 non-null  object \n",
      " 8   description1  14089 non-null  object \n",
      " 9   coder2_label  14089 non-null  object \n",
      " 10  description2  14089 non-null  object \n",
      " 11  consensus     14089 non-null  object \n",
      " 12  reaction      14089 non-null  object \n",
      " 13  score         14089 non-null  int64  \n",
      " 14  id            14089 non-null  object \n",
      " 15  url           14089 non-null  object \n",
      " 16  comms_num     14089 non-null  int64  \n",
      " 17  author        14089 non-null  object \n",
      " 18  upvote_ratio  14089 non-null  float64\n",
      " 19  permalink     14089 non-null  object \n",
      " 20  subreddit_id  14089 non-null  object \n",
      "dtypes: float64(1), int64(7), object(13)\n",
      "memory usage: 2.4+ MB\n"
     ]
    }
   ],
   "source": [
    "df.info()"
   ]
  },
  {
   "cell_type": "code",
   "execution_count": 26,
   "id": "plain-steering",
   "metadata": {},
   "outputs": [],
   "source": [
    "df[\"created\"] = pd.to_datetime(df[\"created\"])"
   ]
  },
  {
   "cell_type": "code",
   "execution_count": 27,
   "id": "sporting-throw",
   "metadata": {},
   "outputs": [
    {
     "data": {
      "text/plain": [
       "Timestamp('2021-08-25 12:01:38')"
      ]
     },
     "execution_count": 27,
     "metadata": {},
     "output_type": "execute_result"
    }
   ],
   "source": [
    "max(df['created'])"
   ]
  },
  {
   "cell_type": "code",
   "execution_count": 28,
   "id": "bridal-device",
   "metadata": {},
   "outputs": [
    {
     "data": {
      "text/plain": [
       "Timestamp('2009-07-09 02:02:41')"
      ]
     },
     "execution_count": 28,
     "metadata": {},
     "output_type": "execute_result"
    }
   ],
   "source": [
    "min(df['created'])"
   ]
  },
  {
   "cell_type": "code",
   "execution_count": 29,
   "id": "historical-faculty",
   "metadata": {},
   "outputs": [
    {
     "data": {
      "text/plain": [
       "created         14089\n",
       "Day             14089\n",
       "Month           14089\n",
       "Year            14089\n",
       "HourofDay       14089\n",
       "DayOfWeek       14089\n",
       "body            14089\n",
       "coder1_label    14089\n",
       "description1    14089\n",
       "coder2_label    14089\n",
       "description2    14089\n",
       "consensus       14089\n",
       "reaction        14089\n",
       "score           14089\n",
       "id              14089\n",
       "url             14089\n",
       "comms_num       14089\n",
       "author          14089\n",
       "upvote_ratio    14089\n",
       "permalink       14089\n",
       "subreddit_id    14089\n",
       "dtype: int64"
      ]
     },
     "execution_count": 29,
     "metadata": {},
     "output_type": "execute_result"
    }
   ],
   "source": [
    "df.count()"
   ]
  },
  {
   "cell_type": "markdown",
   "id": "alpha-stanley",
   "metadata": {},
   "source": [
    "### Data Visualization"
   ]
  },
  {
   "cell_type": "code",
   "execution_count": 30,
   "id": "cloudy-bubble",
   "metadata": {},
   "outputs": [],
   "source": [
    "import matplotlib.pyplot as plt"
   ]
  },
  {
   "cell_type": "code",
   "execution_count": 31,
   "id": "educated-devon",
   "metadata": {},
   "outputs": [
    {
     "data": {
      "image/png": "[encoded data removed]",
      "text/plain": [
       "<Figure size 864x576 with 1 Axes>"
      ]
     },
     "metadata": {
      "needs_background": "light"
     },
     "output_type": "display_data"
    }
   ],
   "source": [
    "# Based on the year\n",
    "plt.rcParams[\"figure.figsize\"] = (12,8)\n",
    "ax = df[\"Year\"].groupby(df[\"Year\"]).count().plot(kind=\"bar\", width=0.8)\n",
    "ax.set(xlabel=\"\", ylabel=\"body\", title=\"Number of post per year\")\n",
    "#plt.xticks(range(7), DayOfWeek)\n",
    "plt.show()"
   ]
  },
  {
   "cell_type": "code",
   "execution_count": 32,
   "id": "structured-tracy",
   "metadata": {},
   "outputs": [
    {
     "data": {
      "image/png": "[encoded data removed]",
      "text/plain": [
       "<Figure size 864x576 with 1 Axes>"
      ]
     },
     "metadata": {
      "needs_background": "light"
     },
     "output_type": "display_data"
    }
   ],
   "source": [
    "# Based on the Month\n",
    "plt.rcParams[\"figure.figsize\"] = (12,8)\n",
    "ax = df[\"Month\"].groupby(df[\"Month\"]).count().plot(kind=\"bar\", width=0.8)\n",
    "ax.set(xlabel=\"\", ylabel=\"body\", title=\"Number of post per Month\")\n",
    "#plt.xticks(range(7), DayOfWeek)\n",
    "plt.show()"
   ]
  },
  {
   "cell_type": "code",
   "execution_count": 33,
   "id": "close-pennsylvania",
   "metadata": {},
   "outputs": [
    {
     "data": {
      "image/png": "[encoded data removed]",
      "text/plain": [
       "<Figure size 864x576 with 1 Axes>"
      ]
     },
     "metadata": {
      "needs_background": "light"
     },
     "output_type": "display_data"
    }
   ],
   "source": [
    "# Based on the day of the week\n",
    "plt.rcParams[\"figure.figsize\"] = (12,8)\n",
    "ax = df[\"DayOfWeek\"].groupby(df[\"DayOfWeek\"]).count().plot(kind=\"bar\", width=0.8)\n",
    "ax.set(xlabel=\"\", ylabel=\"body\", title=\"Average number of weekly post\")\n",
    "plt.xticks(range(7), weekDays)\n",
    "plt.show()"
   ]
  },
  {
   "cell_type": "code",
   "execution_count": 34,
   "id": "analyzed-breast",
   "metadata": {},
   "outputs": [
    {
     "data": {
      "image/png": "[encoded data removed]",
      "text/plain": [
       "<Figure size 864x576 with 1 Axes>"
      ]
     },
     "metadata": {
      "needs_background": "light"
     },
     "output_type": "display_data"
    }
   ],
   "source": [
    "# Based on the time of the day\n",
    "ax = df[\"HourofDay\"].groupby(df[\"HourofDay\"]).count().plot(kind=\"bar\", width=0.8)\n",
    "ax.set(xlabel=\"\", ylabel=\"body\", title=\"Number of post each Hour\") # Default is UTC\n",
    "plt.rcParams[\"figure.figsize\"] = (12,8)\n",
    "plt.show()"
   ]
  },
  {
   "cell_type": "code",
   "execution_count": 35,
   "id": "spatial-fight",
   "metadata": {},
   "outputs": [
    {
     "name": "stdout",
     "output_type": "stream",
     "text": [
      "Upvote range: 0 8575\n"
     ]
    },
    {
     "data": {
      "image/png": "[encoded data removed]",
      "text/plain": [
       "<Figure size 864x576 with 1 Axes>"
      ]
     },
     "metadata": {
      "needs_background": "light"
     },
     "output_type": "display_data"
    }
   ],
   "source": [
    "# Based on the day of the week, but segmented into upvote count groups\n",
    "minscr = df[\"score\"].min()\n",
    "maxscr = df[\"score\"].max()\n",
    "print(\"Upvote range:\", minscr, maxscr)\n",
    "\n",
    "# Manually determine certain segmentation\n",
    "dfseg = pd.DataFrame(index=range(7), columns=[])\n",
    "dfseg[\"<10\"] = df[df[\"score\"]<=10][\"DayOfWeek\"].groupby(df[\"DayOfWeek\"]).count()\n",
    "dfseg[\"10-500\"] = df[(df[\"score\"]>10) & (df[\"score\"]<=500)][\"DayOfWeek\"].groupby(df[\"DayOfWeek\"]).count()\n",
    "dfseg[\"500-1000\"] = df[(df[\"score\"]>500) & (df[\"score\"]<=1000)][\"DayOfWeek\"].groupby(df[\"DayOfWeek\"]).count()\n",
    "dfseg[\"1000-2500\"] = df[(df[\"score\"]>1000) & (df[\"score\"]<=2500)][\"DayOfWeek\"].groupby(df[\"DayOfWeek\"]).count()\n",
    "dfseg[\"2500-5000\"] = df[(df[\"score\"]>2500) & (df[\"score\"]<=5000)][\"DayOfWeek\"].groupby(df[\"DayOfWeek\"]).count()\n",
    "dfseg[\">5000\"] = df[df[\"score\"]>5000][\"DayOfWeek\"].groupby(df[\"DayOfWeek\"]).count()\n",
    "\n",
    "ax = dfseg.plot(kind=\"bar\", stacked=True, width=0.8)\n",
    "ax.set(xlabel=\"\", ylabel=\"body\", title=\"Score chart\")\n",
    "plt.xticks(range(7), weekDays)\n",
    "plt.rcParams[\"figure.figsize\"] = (12,8)\n",
    "plt.show()"
   ]
  },
  {
   "cell_type": "code",
   "execution_count": 145,
   "id": "korean-induction",
   "metadata": {},
   "outputs": [
    {
     "data": {
      "text/plain": [
       "the     131008\n",
       "and     107990\n",
       "to      107716\n",
       "*       100644\n",
       "I        89576\n",
       "of       88458\n",
       "in       67479\n",
       "a        66442\n",
       "/        63348\n",
       "-        55736\n",
       "is       37622\n",
       "my       36387\n",
       "that     35062\n",
       "for      33840\n",
       "with     33470\n",
       "have     32256\n",
       "are      31178\n",
       "last     29587\n",
       "on       28180\n",
       "was      26538\n",
       "dtype: int64"
      ]
     },
     "execution_count": 145,
     "metadata": {},
     "output_type": "execute_result"
    }
   ],
   "source": [
    "# Common post title words\n",
    "freq = pd.Series(' '.join(df['body']).split()).value_counts()[:20]\n",
    "freq"
   ]
  },
  {
   "cell_type": "code",
   "execution_count": 146,
   "id": "mathematical-kennedy",
   "metadata": {},
   "outputs": [
    {
     "data": {
      "text/plain": [
       "lower.)                                                                                                                                                                                      1\n",
       "6:40                                                                                                                                                                                         1\n",
       "STATEMENT                                                                                                                                                                                    1\n",
       "(Seulement                                                                                                                                                                                   1\n",
       "evolved,                                                                                                                                                                                     1\n",
       "ivy,                                                                                                                                                                                         1\n",
       "Wonky                                                                                                                                                                                        1\n",
       "https://beta.ctvnews.ca/local/toronto/2021/1/22/1_5279068.html                                                                                                                               1\n",
       "https://news.gov.bc.ca/releases/2021HLTH0035-000923                                                                                                                                          1\n",
       "Nebraska-Lincoln                                                                                                                                                                             1\n",
       "Vice.                                                                                                                                                                                        1\n",
       "Samsel*](https://archive.fo/o/meDSY/https://www.researchgate.net/publication/316601847_Glyphosate_pathways_to_modern_diseases_VI_Prions_amyloidoses_and_autoimmune_neurological_diseases)    1\n",
       "Stigma:                                                                                                                                                                                      1\n",
       "Fest**](https://www.reddit.com/r/Torontoevents/comments/4tgwo4/left_2016_film_fest_with_10_premieres_aug_57/)                                                                                1\n",
       "giant,                                                                                                                                                                                       1\n",
       "amateurs.                                                                                                                                                                                    1\n",
       "vent..                                                                                                                                                                                       1\n",
       "DOI:                                                                                                                                                                                         1\n",
       "superstore                                                                                                                                                                                   1\n",
       "/u/hulkange                                                                                                                                                                                  1\n",
       "dtype: int64"
      ]
     },
     "execution_count": 146,
     "metadata": {},
     "output_type": "execute_result"
    }
   ],
   "source": [
    "# Uncommon post title words\n",
    "freq =  pd.Series(' '.join(df['body']).split()).value_counts()[-20:]\n",
    "freq"
   ]
  },
  {
   "cell_type": "code",
   "execution_count": null,
   "id": "designed-difference",
   "metadata": {},
   "outputs": [],
   "source": []
  }
 ],
 "metadata": {
  "kernelspec": {
   "display_name": "Python 3",
   "language": "python",
   "name": "python3"
  },
  "language_info": {
   "codemirror_mode": {
    "name": "ipython",
    "version": 3
   },
   "file_extension": ".py",
   "mimetype": "text/x-python",
   "name": "python",
   "nbconvert_exporter": "python",
   "pygments_lexer": "ipython3",
   "version": "3.8.5"
  }
 },
 "nbformat": 4,
 "nbformat_minor": 5
}
